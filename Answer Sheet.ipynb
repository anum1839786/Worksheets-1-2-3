{
 "cells": [
  {
   "cell_type": "markdown",
   "id": "f70c5216",
   "metadata": {},
   "source": [
    "Q1: Write a python program to solve a quadratic equation of the form ax^2+bx+c=0. Where a, b and c are to be taken by user input. Handle the erroneous input, such as ‘a’ should not be equal to 0."
   ]
  },
  {
   "cell_type": "code",
   "execution_count": 1,
   "id": "e79d4c23",
   "metadata": {},
   "outputs": [],
   "source": [
    "import cmath"
   ]
  },
  {
   "cell_type": "code",
   "execution_count": 3,
   "id": "f557c2f1",
   "metadata": {},
   "outputs": [
    {
     "name": "stdout",
     "output_type": "stream",
     "text": [
      "Enter coefficient of x^2 (a): 5\n",
      "Enter coefficient of x (b): 3\n",
      "Enter constant term (c): 2\n",
      "The roots are:\n",
      "root 1 = (-0.3+0.5567764362830021j)\n",
      "root 2 = (-0.3-0.5567764362830021j)\n"
     ]
    }
   ],
   "source": [
    "a = float(input(\"Enter coefficient of x^2 (a): \"))\n",
    "b = float(input(\"Enter coefficient of x (b): \"))\n",
    "c = float(input(\"Enter constant term (c): \"))\n",
    "\n",
    "if a == 0:\n",
    "    print(\"Error: coefficient of x^2 (a) cannot be zero\")\n",
    "else:\n",
    "    d = (b**2) - (4*a*c)\n",
    "    \n",
    "    root1 = (-b + cmath.sqrt(d)) / (2*a)\n",
    "    root2 = (-b - cmath.sqrt(d)) / (2*a)\n",
    "    \n",
    "    print(\"The roots are:\")\n",
    "    print(\"root 1 =\", root1)\n",
    "    print(\"root 2 =\", root2) "
   ]
  },
  {
   "cell_type": "markdown",
   "id": "35f6f695",
   "metadata": {},
   "source": [
    "Q2: Write a python program to find the sum of first ‘n’ natural numbers without using any loop. Ask users to input the value of ‘n’."
   ]
  },
  {
   "cell_type": "code",
   "execution_count": 4,
   "id": "5b7d62f1",
   "metadata": {},
   "outputs": [
    {
     "name": "stdout",
     "output_type": "stream",
     "text": [
      "enter a positive interger:4\n",
      "The sum of the first 4 natural number is 10\n"
     ]
    }
   ],
   "source": [
    "n = int(input(\"enter a positive interger:\"))\n",
    "sum = (n*(n+1)) // 2\n",
    "print(\"The sum of the first\", n, \"natural number is\", sum)\n",
    " "
   ]
  },
  {
   "cell_type": "markdown",
   "id": "a1dd85c2",
   "metadata": {},
   "source": [
    "Q3: Write a python function print pyramid of stars. Level of the pyramid should be taken as an input from the user. E.g. Input = 5 "
   ]
  },
  {
   "cell_type": "code",
   "execution_count": 5,
   "id": "ca879d7c",
   "metadata": {},
   "outputs": [
    {
     "name": "stdout",
     "output_type": "stream",
     "text": [
      "enter the number of levels for the pyramid: 5\n",
      "    *\n",
      "   ***\n",
      "  *****\n",
      " *******\n",
      "*********\n"
     ]
    }
   ],
   "source": [
    "def print_pyramid(num_levels):\n",
    "    for i in range (num_levels):\n",
    "        print(\" \" *(num_levels - i - 1), end=\"\")\n",
    "        for j in range(2 * i + 1):\n",
    "            print(\"*\", end=\"\")\n",
    "        print()\n",
    "num_levels = int(input(\"enter the number of levels for the pyramid: \"))\n",
    "print_pyramid(num_levels)"
   ]
  },
  {
   "cell_type": "markdown",
   "id": "736de7b1",
   "metadata": {},
   "source": [
    "Q4: Write a python function print Hourglass pattern."
   ]
  },
  {
   "cell_type": "code",
   "execution_count": 7,
   "id": "137eedf3",
   "metadata": {},
   "outputs": [
    {
     "name": "stdout",
     "output_type": "stream",
     "text": [
      "enter the number of levels for the hourglass5\n",
      "*********\n",
      " *******\n",
      "  *****\n",
      "   ***\n",
      "    *\n"
     ]
    }
   ],
   "source": [
    "def print_hourglass(num_levels):\n",
    "    for i in range (num_levels, 0, -1):\n",
    "        print(\" \" * (num_levels - i), end=\"\")\n",
    "        \n",
    "        for j in range(2*i-1):\n",
    "            print(\"*\",end=\"\")\n",
    "        print()\n",
    "    \n",
    "num_levels = int(input(\"enter the number of levels for the hourglass\"))\n",
    "print_hourglass(num_levels)        \n",
    "\n"
   ]
  },
  {
   "cell_type": "markdown",
   "id": "bb2bd11b",
   "metadata": {},
   "source": [
    "Q5: Write a python function to print Pascal’s Triangle. The number of levels in the triangle must be taken as input by the user. "
   ]
  },
  {
   "cell_type": "code",
   "execution_count": 9,
   "id": "d332e20f",
   "metadata": {},
   "outputs": [
    {
     "name": "stdout",
     "output_type": "stream",
     "text": [
      "Enter the number of levels for Pascal's triangle: 5\n",
      "1\n",
      "11\n",
      "121\n",
      "1331\n",
      "14641\n"
     ]
    }
   ],
   "source": [
    "def print_pascals_triangle(num_levels):\n",
    "    triangle = [[1],[1,1]]\n",
    "    for i in range(2, num_levels):\n",
    "        new_row = [1]\n",
    "        \n",
    "        for j in range (1,i):\n",
    "            new_value = triangle[i - 1][j - 1] + triangle[i - 1][j]\n",
    "            new_row.append(new_value)\n",
    "            \n",
    "        new_row.append(1)\n",
    "        triangle.append(new_row)\n",
    "            \n",
    "    for row in triangle:\n",
    "        for num in row:\n",
    "            print(num, end=\"\")\n",
    "        print()\n",
    "        \n",
    "num_levels = int(input(\"Enter the number of levels for Pascal's triangle: \"))\n",
    "\n",
    "print_pascals_triangle(num_levels)"
   ]
  },
  {
   "cell_type": "markdown",
   "id": "cc1beafa",
   "metadata": {},
   "source": [
    "Q6: Write a python function to print Diamond Shaped Pattern shown below. Function must take integer input which represents the number of stars in the middle most line"
   ]
  },
  {
   "cell_type": "code",
   "execution_count": 10,
   "id": "a3c1b85f",
   "metadata": {},
   "outputs": [
    {
     "name": "stdout",
     "output_type": "stream",
     "text": [
      "enter the number of stars in the middle line of the diamond: 5\n",
      "    *\n",
      "   ***\n",
      "  *****\n",
      " *******\n",
      "*********\n",
      " *******\n",
      "  *****\n",
      "   ***\n",
      "    *\n"
     ]
    }
   ],
   "source": [
    "def print_diamond(num_stars):\n",
    "    for i in range (1, num_stars + 1):\n",
    "        print(\" \" * (num_stars - i), end=\"\")\n",
    "        \n",
    "        for j in range(2 * i -1):\n",
    "            print(\"*\", end=\"\")\n",
    "        print()\n",
    "        \n",
    "    for i in range (num_stars - 1,0,-1):\n",
    "        print(\" \" * (num_stars - i), end=\"\")\n",
    "        \n",
    "        for j in range(2 * i -1):\n",
    "            print(\"*\", end=\"\")\n",
    "        print()\n",
    "        \n",
    "num_stars = int(input(\"enter the number of stars in the middle line of the diamond: \"))\n",
    "print_diamond(num_stars)"
   ]
  },
  {
   "cell_type": "markdown",
   "id": "6e46f177",
   "metadata": {},
   "source": [
    "Q7: Write a python function to print Diamond Shaped Character Pattern shown below. Function must take integer input within range 1 to 26, which represents the rank of the alphabet."
   ]
  },
  {
   "cell_type": "code",
   "execution_count": 11,
   "id": "93b4044b",
   "metadata": {},
   "outputs": [
    {
     "name": "stdout",
     "output_type": "stream",
     "text": [
      "Enter the rank of the alphabet (1-26) for the middlemost character of the diamond: 5\n",
      "    E\n",
      " BCDEDCB\n",
      "  CDEDC\n",
      "   DED\n",
      "    E\n",
      "   DED\n",
      " BCDEDCB\n",
      "  CDEDC\n",
      "   DED\n",
      "    E\n",
      "  CDEDC\n",
      " BCDEDCB\n",
      "  CDEDC\n",
      "   DED\n",
      "    E\n",
      " BCDEDCB\n",
      " BCDEDCB\n",
      "  CDEDC\n",
      "   DED\n",
      "    E\n",
      "ABCDEDCBA\n",
      " BCDEDCB\n",
      "  CDEDC\n",
      "   DED\n",
      "    E\n"
     ]
    }
   ],
   "source": [
    "def print_diamond(rank):\n",
    "    mid_char = chr(ord('A') + rank - 1)\n",
    "    \n",
    "    for i in range(1, rank + 1):\n",
    "        print(\" \" * (rank - i), end=\"\")\n",
    "        \n",
    "        for j in range (i):\n",
    "            print(chr(ord(mid_char) - i + j + 1), end=\"\")\n",
    "        for j in range(i - 1):\n",
    "            print(chr(ord(mid_char) - j - 1), end=\"\")\n",
    "        print()\n",
    "            \n",
    "        for i in range(rank - 1, 0, -1):\n",
    "            print(\" \" * (rank - i), end=\"\")\n",
    "            \n",
    "            for j in range(i):\n",
    "                print(chr(ord(mid_char) - i + j + 1), end=\"\")\n",
    "            for j in range(i - 1):\n",
    "                print(chr(ord(mid_char) - j - 1), end=\"\")\n",
    "            print()\n",
    "            \n",
    "rank = int(input(\"Enter the rank of the alphabet (1-26) for the middlemost character of the diamond: \"))\n",
    "print_diamond(rank)"
   ]
  },
  {
   "cell_type": "code",
   "execution_count": null,
   "id": "133eaf86",
   "metadata": {},
   "outputs": [],
   "source": []
  }
 ],
 "metadata": {
  "kernelspec": {
   "display_name": "Python 3 (ipykernel)",
   "language": "python",
   "name": "python3"
  },
  "language_info": {
   "codemirror_mode": {
    "name": "ipython",
    "version": 3
   },
   "file_extension": ".py",
   "mimetype": "text/x-python",
   "name": "python",
   "nbconvert_exporter": "python",
   "pygments_lexer": "ipython3",
   "version": "3.9.7"
  }
 },
 "nbformat": 4,
 "nbformat_minor": 5
}
